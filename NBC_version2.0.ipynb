{
 "cells": [
  {
   "cell_type": "code",
   "execution_count": 1,
   "id": "c1ab74eb",
   "metadata": {},
   "outputs": [],
   "source": [
    "import pandas as pd\n",
    "import numpy as np\n",
    "from collections import Counter, defaultdict\n",
    "import re\n",
    "import csv\n",
    "import numpy as np\n",
    "import matplotlib.pyplot as plt\n",
    "import matplotlib as mpl"
   ]
  },
  {
   "cell_type": "markdown",
   "id": "73440d78",
   "metadata": {},
   "source": [
    "Sentiment analysis is a computational task that involves classifying text documents according to the sentiment they express, such as positive, negative, or neutral. It has a wide range of applications, including social media monitoring, customer feedback analysis, and market research. \n",
    "In this post, I will implement a naive Bayes classifier for sentiment analysis of movie reviews and evaluate its performance on the Rotten Tomatoes movie reviews dataset.\n"
   ]
  },
  {
   "cell_type": "markdown",
   "id": "64a8fc42",
   "metadata": {},
   "source": [
    "## Dataset:\n",
    "The Rotten Tomatoes movie review dataset downloaded from kaggle ( https://www.kaggle.com/datasets/ulrikthygepedersen/rotten-tomatoes-reviews ) consists of 480001 reviews. The dataset includes the text of each review and a binary label indicating whether the review is \"fresh\" (positive) or \"rotten\" (negative).\n"
   ]
  },
  {
   "cell_type": "markdown",
   "id": "76f0f268",
   "metadata": {},
   "source": [
    "## Preprocessing:\n",
    "Before training the classifier, I have preprocessed the dataset by first reading the CSV file containing the reviews and labels and storing them as a list (rotten_tomatoes_dataset) of tuples. "
   ]
  },
  {
   "cell_type": "code",
   "execution_count": 46,
   "id": "41085b7c",
   "metadata": {},
   "outputs": [
    {
     "data": {
      "text/plain": [
       "480001"
      ]
     },
     "execution_count": 46,
     "metadata": {},
     "output_type": "execute_result"
    }
   ],
   "source": [
    "rotten_tomatoes_dataset=[]\n",
    "with open('rt_reviews.csv', encoding=\"ISO-8859-1\") as csv_file:\n",
    "    csv_reader = csv.reader(csv_file)\n",
    "    for row in csv_reader:\n",
    "        rotten_tomatoes_dataset.append((row[1],row[0]))\n",
    "len(rotten_tomatoes_dataset)"
   ]
  },
  {
   "cell_type": "markdown",
   "id": "4be749f5",
   "metadata": {},
   "source": [
    "Then, I split the data into three sets: train_documents, dev_documents, and test_documents. I have used 60% of the data for training, 20% for validation, and 20% for testing. This ensures that there is enough data for training and testing, while also having a separate set for tuning the model's hyperparameters.\n"
   ]
  },
  {
   "cell_type": "code",
   "execution_count": 47,
   "id": "601e6cf5",
   "metadata": {},
   "outputs": [
    {
     "name": "stdout",
     "output_type": "stream",
     "text": [
      "Number of training documents: 288000\n",
      "Number of validation documents: 96000\n",
      "Number of testing documents: 96001\n"
     ]
    }
   ],
   "source": [
    "train_index = int(len(rotten_tomatoes_dataset) * 0.6)\n",
    "dev_index = int(len(rotten_tomatoes_dataset) * 0.8)\n",
    "train_documents = rotten_tomatoes_dataset[:train_index]\n",
    "dev_documents = rotten_tomatoes_dataset[train_index:dev_index]\n",
    "test_documents = rotten_tomatoes_dataset[dev_index:]\n",
    "print(f\"Number of training documents: {len(train_documents)}\")\n",
    "print(f\"Number of validation documents: {len(dev_documents)}\")\n",
    "print(f\"Number of testing documents: {len(test_documents)}\")\n"
   ]
  },
  {
   "cell_type": "markdown",
   "id": "46941730",
   "metadata": {},
   "source": [
    "Next, I have counted the number of fresh and rotten documents in the training set. This information will be useful for calculating the prior probabilities of each class in the Naive Bayes classifier.\n"
   ]
  },
  {
   "cell_type": "code",
   "execution_count": 48,
   "id": "969cbbbe",
   "metadata": {},
   "outputs": [
    {
     "name": "stdout",
     "output_type": "stream",
     "text": [
      "144170 143830\n"
     ]
    }
   ],
   "source": [
    "# Count the number of fresh and rotten documents\n",
    "fresh_count = sum(1 for doc in train_documents if doc[1] == \"fresh\")\n",
    "rotten_count = len(train_documents) - fresh_count\n",
    "print(fresh_count, rotten_count)"
   ]
  },
  {
   "cell_type": "markdown",
   "id": "7f91186a",
   "metadata": {},
   "source": [
    " I have then counted the occurrence of each word in the training set, excluding stop words (common words like \"the\" and \"and\" that are unlikely to be informative for sentiment analysis). "
   ]
  },
  {
   "cell_type": "code",
   "execution_count": 49,
   "id": "bab274b6",
   "metadata": {},
   "outputs": [],
   "source": [
    "# Define a list of stop words\n",
    "stop_words = [\"a\", \"an\", \"and\", \"are\", \"as\", \"at\", \"be\", \"by\", \"for\", \"from\",\n",
    "              \"has\", \"he\", \"in\", \"is\", \"it\",\"it's\", \"its\", \"of\", \"on\", \"this\",\"that\", \"the\",\n",
    "              \"to\", \"was\", \"were\", \"will\", \"with\"]"
   ]
  },
  {
   "cell_type": "code",
   "execution_count": 50,
   "id": "e02f6c00",
   "metadata": {},
   "outputs": [],
   "source": [
    "# Count the occurrence of each word\n",
    "word_count = {}\n",
    "for doc in train_documents:\n",
    "    # words = doc[0].lower().split()\n",
    "    words = [word.lower() for word in doc[0].split() if word.lower() not in stop_words]\n",
    "    for word in words:\n",
    "        if word in word_count:\n",
    "            word_count[word] += 1\n",
    "        else:\n",
    "            word_count[word] = 1"
   ]
  },
  {
   "cell_type": "markdown",
   "id": "49e65015",
   "metadata": {},
   "source": [
    "Next, I created a reverse index of the dictionary and printed the top 5 words with highest count.\n"
   ]
  },
  {
   "cell_type": "code",
   "execution_count": 51,
   "id": "a93819e9",
   "metadata": {},
   "outputs": [
    {
     "name": "stdout",
     "output_type": "stream",
     "text": [
      "[('but', 54993), ('film', 33828), ('movie', 25191), ('you', 25176), ('not', 25096)]\n"
     ]
    }
   ],
   "source": [
    "#creating a reverse index of the dictionary and prinitng the top 5 words with highest count\n",
    "sorted_word_count = sorted(word_count.items(), key=lambda x: x[1], reverse=True)\n",
    "print((sorted_word_count)[:5])\n",
    "sorted_word_count= dict(sorted_word_count)"
   ]
  },
  {
   "cell_type": "markdown",
   "id": "cbbd1948",
   "metadata": {},
   "source": [
    "I  have also removed rare words that occur fewer than two times in the training set to reduce noise in the data. This step is important because rare words can have a significant impact on the classifier's performance, but they may not be reliable indicators of sentiment due to their low frequency.\n",
    "(Note that I saw ~2-3% drop in accuracy on validation set when words with occurrences less than 5 were removed, so i decided to consider words with occurrences more than 2)\n"
   ]
  },
  {
   "cell_type": "code",
   "execution_count": 52,
   "id": "67cbc431",
   "metadata": {},
   "outputs": [
    {
     "name": "stdout",
     "output_type": "stream",
     "text": [
      "Rare words with count less than 2 removed.\n"
     ]
    }
   ],
   "source": [
    "word_set = set()\n",
    "for word, count in sorted_word_count.items():\n",
    "    if count >= 2:\n",
    "        word_set.add(word)\n",
    "print(\"Rare words with count less than 2 removed.\")"
   ]
  },
  {
   "cell_type": "markdown",
   "id": "a4d8f565",
   "metadata": {},
   "source": [
    "Moving on to the Naive Bayes classifier, which is a probabilistic model that calculates the probability of a document belonging to a certain class given the words in the document. It assumes that the words are conditionally independent given the class, which allows us to calculate the probability of the document as the product of the probabilities of each word given the class.\n",
    "To train the Naive Bayes classifier, I have calculated the frequency of each word in ‘fresh’ and ‘rotten’ documents separately. \n"
   ]
  },
  {
   "cell_type": "code",
   "execution_count": 53,
   "id": "88460551",
   "metadata": {},
   "outputs": [],
   "source": [
    "# Calculate word frequencies in fresh and rotten documents\n",
    "word_freqs = {}\n",
    "for word in word_set:\n",
    "    word_freqs[word] = {\"fresh\": 0, \"rotten\": 0}\n",
    "for doc in train_documents:\n",
    "    words = [word.lower() for word in doc[0].split() if word.lower() not in stop_words]\n",
    "    for word in words:\n",
    "        if word in word_set:\n",
    "            if doc[1] == \"fresh\":\n",
    "                word_freqs[word][\"fresh\"] += 1\n",
    "            else:\n",
    "                word_freqs[word][\"rotten\"] += 1"
   ]
  },
  {
   "cell_type": "code",
   "execution_count": 54,
   "id": "ed4bf921",
   "metadata": {},
   "outputs": [],
   "source": [
    "# Convert word frequencies to arrays\n",
    "fresh_word_freqs = np.zeros(len(word_set))\n",
    "rotten_word_freqs = np.zeros(len(word_set))\n",
    "for i, word in enumerate(word_set):\n",
    "    fresh_word_freqs[i] = word_freqs[word][\"fresh\"]\n",
    "    rotten_word_freqs[i] = word_freqs[word][\"rotten\"]"
   ]
  },
  {
   "cell_type": "markdown",
   "id": "7b49e816",
   "metadata": {},
   "source": [
    "I have then applied Laplace smoothing by adding a small value (alpha) to the word counts to avoid zero probabilities. I have chosen a range of alpha values (from 0 to 1) to tune the model's hyperparameters, and for each alpha value, the log probabilities of each word in fresh and rotten documents is calculated. The resulting fresh_probs and rotten_probs arrays contain the log-probabilities of each word for each class.I have stored the log probabilities in a dictionary for each alpha value, which allows us to quickly look up the probabilities for a given word during testing.\n"
   ]
  },
  {
   "cell_type": "code",
   "execution_count": 55,
   "id": "e5b0560c",
   "metadata": {},
   "outputs": [
    {
     "name": "stderr",
     "output_type": "stream",
     "text": [
      "C:\\Users\\prash\\AppData\\Local\\Temp\\ipykernel_22888\\3351790211.py:14: RuntimeWarning: divide by zero encountered in log\n",
      "  fresh_probs = np.log(num_f / den_f)\n",
      "C:\\Users\\prash\\AppData\\Local\\Temp\\ipykernel_22888\\3351790211.py:15: RuntimeWarning: divide by zero encountered in log\n",
      "  rotten_probs = np.log(num_r / den_r)\n"
     ]
    },
    {
     "name": "stdout",
     "output_type": "stream",
     "text": [
      "Traning completed for alpha = 0\n",
      "\n",
      "Traning completed for alpha = 0.1\n",
      "\n",
      "Traning completed for alpha = 0.2\n",
      "\n",
      "Traning completed for alpha = 0.3\n",
      "\n",
      "Traning completed for alpha = 0.4\n",
      "\n",
      "Traning completed for alpha = 0.5\n",
      "\n",
      "Traning completed for alpha = 0.6\n",
      "\n",
      "Traning completed for alpha = 0.7\n",
      "\n",
      "Traning completed for alpha = 0.8\n",
      "\n",
      "Traning completed for alpha = 0.9\n",
      "\n",
      "Traning completed for alpha = 1\n",
      "\n",
      "Accuracies : [0.7941979166666666, 0.805125, 0.8064583333333334, 0.8071875, 0.8074791666666666, 0.80765625, 0.8075416666666667, 0.80746875, 0.8073854166666666, 0.807375, 0.8070520833333333]\n"
     ]
    }
   ],
   "source": [
    "# Apply smoothing and calculate log probabilities for different values of alpha\n",
    "k = len(word_set)\n",
    "alpha_values = [0, 0.1, 0.2, 0.3, 0.4, 0.5, 0.6, 0.7, 0.8, 0.9, 1]\n",
    "# alpha_values = [ 0.5, 1,5, 10]\n",
    "accuracies = []\n",
    "alpha_dictionaries={}\n",
    "for alpha in alpha_values:\n",
    "    alpha_dict = {}\n",
    "    num_f = fresh_word_freqs + alpha\n",
    "    num_r = rotten_word_freqs + alpha\n",
    "    den_f = fresh_count + alpha * k\n",
    "    den_r = rotten_count + alpha * k\n",
    "   \n",
    "    fresh_probs = np.log(num_f / den_f)\n",
    "    rotten_probs = np.log(num_r / den_r)\n",
    "    for i, word in enumerate(word_set):\n",
    "        alpha_dict[word] = {\"fresh\": fresh_probs[i], \"rotten\": rotten_probs[i]}\n",
    "    print(f\"Traning completed for alpha = {alpha}\\n\")\n",
    "    alpha_dictionaries[alpha]= alpha_dict\n",
    "\n",
    "    # Make predictions on the development set and calculate accuracy\n",
    "    correct = 0\n",
    "    for doc in dev_documents:\n",
    "        # words = set(doc[0].lower().split())\n",
    "        words = set([word.lower() for word in doc[0].split() if word.lower() not in stop_words])\n",
    "        words &= word_set\n",
    "        fresh_log_prob = sum([alpha_dict[word][\"fresh\"] for word in words])\n",
    "        rotten_log_prob = sum([alpha_dict[word][\"rotten\"] for word in words])\n",
    "\n",
    "        \n",
    "        fresh_log_prob += np.log(fresh_count / len(dev_documents))\n",
    "        rotten_log_prob += np.log(rotten_count / len(dev_documents))\n",
    "        if fresh_log_prob > rotten_log_prob:\n",
    "            prediction = \"fresh\"\n",
    "        else:\n",
    "            prediction = \"rotten\"\n",
    "        if prediction == doc[1]:\n",
    "            correct += 1\n",
    "    accuracies.append(correct / len(dev_documents))\n",
    "\n",
    "print(f\"Accuracies : {accuracies}\")\n",
    "\n"
   ]
  },
  {
   "cell_type": "code",
   "execution_count": 40,
   "id": "2e9b714c",
   "metadata": {},
   "outputs": [
    {
     "name": "stdout",
     "output_type": "stream",
     "text": [
      "\n",
      "Maximum accuracy : 0.80765625 at alpha = 0.5\n"
     ]
    }
   ],
   "source": [
    "max_accuracy= max(accuracies)\n",
    "max_alpha= alpha_values[accuracies.index(max_accuracy)]\n",
    "print(f\"\\nMaximum accuracy : {max_accuracy} at alpha = {max_alpha}\")"
   ]
  },
  {
   "cell_type": "code",
   "execution_count": 56,
   "id": "ba07d031",
   "metadata": {},
   "outputs": [
    {
     "data": {
      "image/png": "[encoded data removed]",
      "text/plain": [
       "<Figure size 1320x660 with 1 Axes>"
      ]
     },
     "metadata": {},
     "output_type": "display_data"
    }
   ],
   "source": [
    "# Plot the accuracies for different values of alpha\n",
    "mpl.rcParams['figure.figsize'] = [11.0, 5.5]\n",
    "mpl.rcParams['figure.dpi'] = 120\n",
    "mpl.rcParams['axes.grid'] = True\n",
    "fig, ax = plt.subplots()\n",
    "fig.patch.set_facecolor('lightsteelblue')\n",
    "ax.set_facecolor('lightsteelblue')\n",
    "\n",
    "plt.plot(alpha_values, accuracies, linestyle='-', color = 'midnightblue', marker='o', label='Accuracy')\n",
    "\n",
    "plt.xlabel(\"Smoothing parameter (alpha)\", fontsize=12)\n",
    "plt.ylabel(\"Accuracy\", fontsize=12)\n",
    "plt.title(\"Effect of Smoothing Parameter on Naive Bayes Classifier Accuracy\", fontsize=14)\n",
    "plt.xticks(alpha_values, fontsize=10)\n",
    "plt.yticks(fontsize=10)\n",
    "plt.grid(True)\n",
    "plt.legend(loc='best')\n",
    "\n",
    "for i in range(len(alpha_values)):\n",
    "    plt.annotate(\"{:.5f}\".format(accuracies[i]), xy=(alpha_values[i], accuracies[i]), ha='center', va='bottom', fontsize=10, textcoords='offset points', xytext=(4, 4))\n",
    "\n",
    "plt.show()"
   ]
  },
  {
   "cell_type": "markdown",
   "id": "fb439a92",
   "metadata": {},
   "source": [
    "## Testing and Evaluation\n",
    "To evaluate the Naive Bayes classifier, I have used the development set to tune the hyperparameters (alpha values) and measure the classifier's accuracy. The predictions on each document in the development set is made by calculating the log probability of each word in the document given the class and summing the probabilities. Then, I added the log prior probability of the class (fresh or rotten) and chose the class with the highest probability as the predicted class for the document.\n",
    "The accuracy of the classifier is calculated as the percentage of correctly classified documents in the development set. This entire process is repeated for each alpha value and the alpha value that gives the highest accuracy on the validation set is chosen.\n"
   ]
  },
  {
   "cell_type": "markdown",
   "id": "5741c11c",
   "metadata": {},
   "source": [
    "From the described process, the following are the key findings:\n",
    "For alpha values, alpha =  [0, 0.1, 0.2, 0.3, 0.4, 0.5, 0.6, 0.7, 0.8, 0.9, 1], \n",
    "the accuracies were  : [0.7941979166666666, 0.805125, 0.8064583333333334, 0.8071875, 0.8074791666666666, 0.80765625, 0.8075416666666667, 0.80746875, 0.8073854166666666, 0.807375, 0.8070520833333333]\n",
    "\n",
    "**Maximum accuracy for development set : 0.80765625 at alpha = 0.5**\n"
   ]
  },
  {
   "cell_type": "markdown",
   "id": "76c9fd1b",
   "metadata": {},
   "source": [
    "The top 10 words that predicts each class were calculated as follows:"
   ]
  },
  {
   "cell_type": "code",
   "execution_count": 59,
   "id": "77bd695d",
   "metadata": {},
   "outputs": [],
   "source": [
    "def top_words(word_set, word_freqs, fresh_count, rotten_count, alpha):    \n",
    "    # Calculate the conditional probabilities of each word for each class\n",
    "    k = len(word_set)\n",
    "    fresh_probs = np.log((np.array([word_freqs[word][\"fresh\"] for word in word_set]) + alpha) / (fresh_count + alpha * k))\n",
    "    rotten_probs = np.log((np.array([word_freqs[word][\"rotten\"] for word in word_set]) + alpha) / (rotten_count + alpha * k))\n",
    "\n",
    "    # Sort the words based on their probabilities for each class\n",
    "    fresh_sorted_indices = np.argsort(fresh_probs)[::-1][:10]\n",
    "    rotten_sorted_indices = np.argsort(rotten_probs)[::-1][:10]\n",
    "\n",
    "    # Print the top 10 words for each class\n",
    "    print(\"Top 10 words predicting 'fresh':\\n\")\n",
    "    for i in fresh_sorted_indices:\n",
    "        word = list(word_set)[i]\n",
    "        print(word, np.exp(fresh_probs[i]))\n",
    "\n",
    "    print(\"\\nTop 10 words predicting 'rotten':\")\n",
    "    for i in rotten_sorted_indices:\n",
    "        word = list(word_set)[i]\n",
    "        print(word, np.exp(rotten_probs[i]))"
   ]
  },
  {
   "cell_type": "code",
   "execution_count": 60,
   "id": "3b3741d0",
   "metadata": {},
   "outputs": [
    {
     "name": "stdout",
     "output_type": "stream",
     "text": [
      "Top 10 words predicting 'fresh':\n",
      "\n",
      "but 0.13213364922305063\n",
      "film 0.09216630000895908\n",
      "you 0.06458235862110157\n",
      "not 0.05792777009068555\n",
      "movie 0.054752282070935826\n",
      "one 0.054155011597001694\n",
      "his 0.0531794698229093\n",
      "about 0.04964064226484964\n",
      "more 0.0482519884129528\n",
      "all 0.043518619907024894\n",
      "\n",
      "Top 10 words predicting 'rotten':\n",
      "but 0.14182546092713907\n",
      "film 0.07633840876683917\n",
      "movie 0.07075443477220376\n",
      "not 0.06709992322035757\n",
      "you 0.060832909549592654\n",
      "like 0.060593596378394\n",
      "more 0.06028946922332906\n",
      "than 0.055034550839091805\n",
      "have 0.05415208352029676\n",
      "so 0.049550290665789185\n"
     ]
    }
   ],
   "source": [
    "# derive top 10 wrords\n",
    "top_words(word_set, word_freqs,fresh_count, rotten_count, alpha =0.5)"
   ]
  },
  {
   "cell_type": "markdown",
   "id": "d99b69b9",
   "metadata": {},
   "source": [
    "Finally, the performance of the classifier is tested on the test set, which is independent of the training and development sets. The accuracy of the classifier on the test set is calculated using the alpha value that gave the highest accuracy on the validation set, which is **alpha = 0.5**.\n"
   ]
  },
  {
   "cell_type": "code",
   "execution_count": 42,
   "id": "d75e1368",
   "metadata": {},
   "outputs": [
    {
     "name": "stdout",
     "output_type": "stream",
     "text": [
      "Accuracy on the test set for alpha = 0.5: 0.8065\n"
     ]
    }
   ],
   "source": [
    "# Testing on test Datset\n",
    "alpha_dict = alpha_dictionaries[max_alpha]\n",
    "correct = 0\n",
    "for doc in test_documents:\n",
    "    words = set([word.lower() for word in doc[0].split() if word.lower() not in stop_words]) & word_set\n",
    "    fresh_log_prob = sum([alpha_dict[word][\"fresh\"] for word in words])\n",
    "    rotten_log_prob = sum([alpha_dict[word][\"rotten\"] for word in words])\n",
    "    if fresh_log_prob > rotten_log_prob:\n",
    "        prediction = \"fresh\"\n",
    "    else:\n",
    "        prediction = \"rotten\"\n",
    "    if prediction == doc[1]:\n",
    "        correct += 1\n",
    "\n",
    "accuracy = correct / len(test_documents)\n",
    "print(f\"Accuracy on the test set for alpha = {max_alpha}: {accuracy:.4f}\")\n"
   ]
  },
  {
   "cell_type": "markdown",
   "id": "a74557b0",
   "metadata": {},
   "source": [
    " **Maximum accuracy of Naive Bayes Classifier for test set : 0.8065 at alpha = 0.5.**"
   ]
  },
  {
   "cell_type": "markdown",
   "id": "f11f27e4",
   "metadata": {},
   "source": [
    "## Conclusion\n",
    "In this post, I have implemented a naive Bayes classifier for sentiment analysis using a dataset of movie reviews from Rotten Tomatoes. The classifier is implemented from scratch using Python and NumPy libraries.\n",
    "This implementation achieved an accuracy of **~80.65%**, which is reasonable for a simple model like Naive Bayes. \n",
    "\n"
   ]
  },
  {
   "cell_type": "code",
   "execution_count": null,
   "id": "ce55ec86",
   "metadata": {},
   "outputs": [],
   "source": []
  }
 ],
 "metadata": {
  "kernelspec": {
   "display_name": "Python 3 (ipykernel)",
   "language": "python",
   "name": "python3"
  },
  "language_info": {
   "codemirror_mode": {
    "name": "ipython",
    "version": 3
   },
   "file_extension": ".py",
   "mimetype": "text/x-python",
   "name": "python",
   "nbconvert_exporter": "python",
   "pygments_lexer": "ipython3",
   "version": "3.9.13"
  }
 },
 "nbformat": 4,
 "nbformat_minor": 5
}
